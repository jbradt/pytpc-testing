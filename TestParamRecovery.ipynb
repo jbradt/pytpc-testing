{
 "cells": [
  {
   "cell_type": "markdown",
   "metadata": {},
   "source": [
    "# Testing Kalman filter performance\n",
    "\n",
    "This notebook will run the Kalman filter from `pytpc` for a variety of simulated input tracks to see how it works under different conditions."
   ]
  },
  {
   "cell_type": "code",
   "execution_count": null,
   "metadata": {
    "collapsed": true
   },
   "outputs": [],
   "source": [
    "%matplotlib inline"
   ]
  },
  {
   "cell_type": "code",
   "execution_count": null,
   "metadata": {
    "collapsed": true
   },
   "outputs": [],
   "source": [
    "from IPython.parallel import Client"
   ]
  },
  {
   "cell_type": "code",
   "execution_count": null,
   "metadata": {
    "collapsed": false
   },
   "outputs": [],
   "source": [
    "rc = Client()\n",
    "lbv = rc.load_balanced_view()\n",
    "dv = rc[:]"
   ]
  },
  {
   "cell_type": "code",
   "execution_count": null,
   "metadata": {
    "collapsed": true
   },
   "outputs": [],
   "source": [
    "%%px --local\n",
    "import numpy as np\n",
    "import matplotlib.pyplot as plt\n",
    "import seaborn as sns\n",
    "import pandas as pd\n",
    "import random\n",
    "import os\n",
    "from IPython.display import clear_output\n",
    "import pickle"
   ]
  },
  {
   "cell_type": "code",
   "execution_count": null,
   "metadata": {
    "collapsed": true
   },
   "outputs": [],
   "source": [
    "sns.set_style('white')"
   ]
  },
  {
   "cell_type": "code",
   "execution_count": null,
   "metadata": {
    "collapsed": true
   },
   "outputs": [],
   "source": [
    "sns.set_context('notebook', font_scale=1.2)"
   ]
  },
  {
   "cell_type": "code",
   "execution_count": null,
   "metadata": {
    "collapsed": true
   },
   "outputs": [],
   "source": [
    "%%px --local\n",
    "import sys\n",
    "sys.path.append('/Users/josh/Documents/Code/pytpc/')"
   ]
  },
  {
   "cell_type": "code",
   "execution_count": null,
   "metadata": {
    "collapsed": false
   },
   "outputs": [],
   "source": [
    "%%px --local\n",
    "import pytpc\n",
    "from pytpc.constants import *"
   ]
  },
  {
   "cell_type": "code",
   "execution_count": null,
   "metadata": {
    "collapsed": true
   },
   "outputs": [],
   "source": [
    "from mpl_toolkits.axes_grid.anchored_artists import AnchoredText"
   ]
  },
  {
   "cell_type": "markdown",
   "metadata": {},
   "source": [
    "---\n",
    "\n",
    "# Parameters\n",
    "\n",
    "These are universal and won't be varied in each run."
   ]
  },
  {
   "cell_type": "code",
   "execution_count": null,
   "metadata": {
    "collapsed": false
   },
   "outputs": [],
   "source": [
    "%%px --local\n",
    "tilt = 7*degrees\n",
    "clock = 6.25\n",
    "shape = 332\n",
    "vd_mag = -2.8\n",
    "\n",
    "emag = 15e3\n",
    "bmag = 0.5\n",
    "ef, bf = pytpc.utilities.create_fields(emag, bmag, tilt)\n",
    "\n",
    "vd = pytpc.simulation.drift_velocity_vector(vd_mag, emag, bmag, tilt)\n",
    "\n",
    "pads = pytpc.generate_pad_plane()"
   ]
  },
  {
   "cell_type": "markdown",
   "metadata": {},
   "source": [
    "---\n",
    "\n",
    "# Definitions\n",
    "\n",
    "Functions for batch running"
   ]
  },
  {
   "cell_type": "code",
   "execution_count": null,
   "metadata": {
    "collapsed": false
   },
   "outputs": [],
   "source": [
    "%%px --local\n",
    "def do_simulate(pmass, pchg, pen, pazi, ppol):\n",
    "    proj = pytpc.Particle(pmass, pchg, pen, position=(0, 0, 1.0), azimuth=pazi, polar=ppol)\n",
    "    gas = pytpc.gases.InterpolatedGasMixture(200., ('helium', 0.9), ('carbon_dioxide', 0.1))\n",
    "\n",
    "    simres = pytpc.track(proj, gas, ef, bf)\n",
    "    part = simres[simres.en >= 1.0]\n",
    "\n",
    "    evt = pytpc.evtdata.make_event(part[['x', 'y', 'z']].values * 1e3, part['de'].values, clock, vd, 40., \n",
    "                                   proj.mass_num, shape, offset=0)\n",
    "    \n",
    "    return part, evt"
   ]
  },
  {
   "cell_type": "code",
   "execution_count": null,
   "metadata": {
    "collapsed": true
   },
   "outputs": [],
   "source": [
    "%%px --local\n",
    "def do_filter(evt, guess_A, guess_Z, guess_en):\n",
    "    meas = evt.xyzs(vd, clock, peaks_only=True, pads=pads)[:, 0:3] * 1e-3\n",
    "    meas = meas[meas[:, 2].argsort()][::-1]\n",
    "    \n",
    "    guess_diff = meas[1:] - meas[0]\n",
    "    guess_azi = np.median(np.arctan2(guess_diff[:, 1], guess_diff[:, 0]))\n",
    "    guess_pol = np.median(np.arctan2(np.sqrt(guess_diff[:, 0]**2 + guess_diff[:, 1]**2), guess_diff[:, 2]))\n",
    "    \n",
    "    trproj = pytpc.Particle(guess_A, guess_Z, guess_en, position=meas[0], azimuth=guess_azi, polar=guess_pol)\n",
    "    gas = pytpc.gases.InterpolatedGasMixture(200., ('helium', 0.9), ('carbon_dioxide', 0.1))\n",
    "\n",
    "    tr = pytpc.Tracker(trproj, gas, ef, bf, trproj.state_vector)\n",
    "    tr.kfilter.Q = np.diag((1e-4, 1e-4, 1e-4, 1e-1, 1e-1, 1e-1))**2 # Process\n",
    "    tr.kfilter.R = np.diag([2e-2]*2 + [4e-2]) ** 2 # Measurement\n",
    "    tr.kfilter.P = np.diag([1e-2] * 3 + [1e-0] * 3)**2\n",
    "\n",
    "    res, covar, res_times = tr.track(meas)\n",
    "\n",
    "    resdf = pd.DataFrame(res, columns=('x', 'y', 'z', 'px', 'py', 'pz'))\n",
    "    resdf['time'] = res_times\n",
    "    resdf['en'] = (np.sqrt(np.sum(res[:, 3:6]**2, axis=1) + trproj.mass**2) - trproj.mass) / trproj.mass_num\n",
    "    resdf['de'] = np.concatenate((np.array([0.0]), np.diff(resdf.en)))\n",
    "    resdf['azi'] = np.arctan2(resdf.py, resdf.px)\n",
    "    resdf['pol'] = np.arctan2(np.sqrt(resdf.px**2 + resdf.py**2), resdf.pz)\n",
    "    \n",
    "    return resdf"
   ]
  },
  {
   "cell_type": "code",
   "execution_count": null,
   "metadata": {
    "collapsed": false
   },
   "outputs": [],
   "source": [
    "%%px --local\n",
    "def run_event(pvec):\n",
    "    try:\n",
    "        part, evt = do_simulate(pvec.mass_in, pvec.chg_in, pvec.en_in, pvec.azi_in, pvec.pol_in)\n",
    "        resdf = do_filter(evt, pvec.mass_in, pvec.chg_in, pvec.guess_en)\n",
    "        lastpt = resdf.iloc[-1].copy()\n",
    "        truept = part.iloc[-1].copy()\n",
    "        truept.index = ['true_' + x for x in truept.index]\n",
    "        truept['start_en'] = pvec.en_in\n",
    "    except Exception as e:\n",
    "        print(type(e), e)\n",
    "        pass\n",
    "    else:\n",
    "        return pd.concat((lastpt, truept))"
   ]
  },
  {
   "cell_type": "code",
   "execution_count": null,
   "metadata": {
    "collapsed": true
   },
   "outputs": [],
   "source": [
    "def stats_box(dist, loc, size):\n",
    "    s = 'Mean: {m:0.4f}\\nSD: {sd:0.4f}\\nN: {n}'.format(m=dist.mean(), \n",
    "                                                       sd=dist.std(), \n",
    "                                                       n=len(dist))\n",
    "    at = AnchoredText(s, loc=loc, prop={'size': size})\n",
    "    return at"
   ]
  },
  {
   "cell_type": "markdown",
   "metadata": {
    "collapsed": true
   },
   "source": [
    "---\n",
    "\n",
    "# Simulation of events\n",
    "\n",
    "Now I'll run the code for a lot of events to see how it responds. That's done in the next few cells.\n",
    "\n",
    "First, I'll set the parameters for running. I chose to use normally distributed beam energies with mean 2.0 MeV/u and standard deviation 0.1 MeV/u. The azimuthal energy and polar energy were each uniformly distributed over all angles. (Note that I did not include backwards polar angles since I started the track at the cathode of the detector, and these would immediately leave the detector volume.)\n",
    "\n",
    "Another note: I chose to always seed the Kalman filter with the same value of energy, which was chosen to be the mean of the normally distributed energies (2.0 MeV/u). I did this because this is how we will probably have to run it in real life, where we only know the mean beam energy."
   ]
  },
  {
   "cell_type": "code",
   "execution_count": null,
   "metadata": {
    "collapsed": true
   },
   "outputs": [],
   "source": [
    "niters = 10000\n",
    "params = pd.DataFrame(0, columns=('mass_in', 'chg_in', 'en_in', 'azi_in', 'pol_in', 'guess_en'), \n",
    "                      index=range(niters))\n",
    "params.mass_in = 4\n",
    "params.chg_in = 2\n",
    "params.en_in = np.random.normal(2, 0.1, niters)\n",
    "params.azi_in = np.random.uniform(0, 2*pi, niters)\n",
    "params.pol_in = np.random.uniform(pi/2, pi, niters)\n",
    "params.guess_en = 2."
   ]
  },
  {
   "cell_type": "markdown",
   "metadata": {},
   "source": [
    "This actually runs the simulation for all of the events and saves the results. This takes about 20 minutes for 10000 events running on 6 IPython engines."
   ]
  },
  {
   "cell_type": "code",
   "execution_count": null,
   "metadata": {
    "collapsed": false
   },
   "outputs": [],
   "source": [
    "res = dv.map_sync(lambda x: run_event(x[1]), params.iterrows())\n",
    "resdf = pd.DataFrame({i: v for i, v in enumerate(res) if v is not None}).transpose()\n",
    "mcdf = pd.concat((params, resdf), axis=1)\n",
    "mcdf['pdev_en'] = (mcdf.en - mcdf.true_en) / mcdf.true_en * 100\n",
    "mcdf['dev_azi'] = (mcdf.azi - mcdf.true_azi)\n",
    "mcdf['dev_pol'] = (mcdf.pol - mcdf.true_pol)\n",
    "mcdf['en_err'] = mcdf.start_en - 2.0\n",
    "mcdf.to_pickle('new_mcdf.p')\n",
    "with open('new_mcdf.txt', 'w') as f:\n",
    "    f.write(mcdf.to_string())"
   ]
  },
  {
   "cell_type": "markdown",
   "metadata": {},
   "source": [
    "The next cell just reads back in the data from the file."
   ]
  },
  {
   "cell_type": "code",
   "execution_count": null,
   "metadata": {
    "collapsed": true
   },
   "outputs": [],
   "source": [
    "mcdf = pd.read_pickle('new_mcdf.p')"
   ]
  },
  {
   "cell_type": "markdown",
   "metadata": {},
   "source": [
    "# Cut for events that leave the detector\n",
    "\n",
    "I stopped each track at 1.0 MeV/u, choosing this energy arbitrarily to be like a reaction vertex. This poses problems for the high-polar-angle tracks that leave the detector before that energy. Therefore, I chose to cut these out.\n",
    "\n",
    "Here is the distribution of true \"reaction vertex\" energies before the cut (i.e. the energy of the particle at the last point of the simulated track):"
   ]
  },
  {
   "cell_type": "code",
   "execution_count": null,
   "metadata": {
    "collapsed": false
   },
   "outputs": [],
   "source": [
    "plt.hist(mcdf.true_en.dropna(), bins=20);\n",
    "plt.xlabel('True vertex energy [MeV/u]')\n",
    "plt.ylabel('Count');"
   ]
  },
  {
   "cell_type": "markdown",
   "metadata": {},
   "source": [
    "This can be compared to the polar angle to see that the odd hump in the middle is due to tracks at very horizontal polar angles. Keep in mind that in my coordinate system (see below), the window is at (0, 0, 1) meters, so a polar angle of π is straight ahead."
   ]
  },
  {
   "cell_type": "code",
   "execution_count": null,
   "metadata": {
    "collapsed": false
   },
   "outputs": [],
   "source": [
    "# Show the coordinate system image\n",
    "from IPython.display import Image\n",
    "Image('CoordinateSystems.png', width=300)"
   ]
  },
  {
   "cell_type": "markdown",
   "metadata": {},
   "source": [
    "The plot below shows the comparison between vertex energy and polar angle."
   ]
  },
  {
   "cell_type": "code",
   "execution_count": null,
   "metadata": {
    "collapsed": false
   },
   "outputs": [],
   "source": [
    "sns.jointplot('pol_in', 'true_en', mcdf, kind='hex', stat_func=None)\n",
    "plt.sca(plt.gcf().axes[0])\n",
    "plt.xlabel('Input polar angle [radians]')\n",
    "plt.ylabel('True vertex energy [MeV/u]');"
   ]
  },
  {
   "cell_type": "markdown",
   "metadata": {},
   "source": [
    "Clearly this is not ideal. Since they should always be around 1.0 MeV/u, I'll cut out the strange ones."
   ]
  },
  {
   "cell_type": "code",
   "execution_count": null,
   "metadata": {
    "collapsed": false
   },
   "outputs": [],
   "source": [
    "reac_cut = mcdf[mcdf.true_en < 1.003].dropna()\n",
    "plt.hist(reac_cut.true_en, bins=20);"
   ]
  },
  {
   "cell_type": "markdown",
   "metadata": {},
   "source": [
    "---\n",
    "\n",
    "# Results\n",
    "\n",
    "The results are pretty good.\n",
    "\n",
    "### Azimuthal Angle\n",
    "\n",
    "First, let's look at the deviation in the azimuthal angle, i.e. the difference between the measured and true azimuthal angles. This distribution forms a spike near 0 degrees."
   ]
  },
  {
   "cell_type": "code",
   "execution_count": null,
   "metadata": {
    "collapsed": false
   },
   "outputs": [],
   "source": [
    "plt.hist(reac_cut.dev_azi / degrees, bins=100, histtype='bar')\n",
    "# plt.grid()\n",
    "# sns.distplot(reac_cut.dev_azi, kde=False, fit=scipy.stats.norm)\n",
    "plt.xlabel('Deviation in azimuthal angle [degrees]')\n",
    "plt.ylabel('Count')\n",
    "at = stats_box(reac_cut.dev_azi / degrees, 2, 12)\n",
    "plt.gca().add_artist(at);"
   ]
  },
  {
   "cell_type": "markdown",
   "metadata": {},
   "source": [
    "There are a few points at each end near 360 degrees, but those might be due to a branch cut or something.\n",
    "\n",
    "### Polar Angle\n",
    "\n",
    "This one has a very narrow distribution (notice how small the scale is on the x axis)."
   ]
  },
  {
   "cell_type": "code",
   "execution_count": null,
   "metadata": {
    "collapsed": false
   },
   "outputs": [],
   "source": [
    "sns.distplot(reac_cut.dev_pol / degrees, kde=False, fit=scipy.stats.norm)\n",
    "plt.xlabel('Deviation in polar angle [degrees]')\n",
    "plt.ylabel('Count')\n",
    "at = stats_box(reac_cut.dev_pol / degrees, 2, 12)\n",
    "plt.gca().add_artist(at);"
   ]
  },
  {
   "cell_type": "markdown",
   "metadata": {},
   "source": [
    "### Vertex energy\n",
    "\n",
    "This variable has the largest spread of any of them. "
   ]
  },
  {
   "cell_type": "code",
   "execution_count": null,
   "metadata": {
    "collapsed": false
   },
   "outputs": [],
   "source": [
    "sns.distplot(reac_cut.en_err, kde=False, fit=scipy.stats.norm)\n",
    "plt.xlabel('Deviation in vertex energy [MeV/u]')\n",
    "plt.ylabel('Count')\n",
    "at = stats_box(reac_cut.en_err, 2, 12)\n",
    "plt.gca().add_artist(at);"
   ]
  },
  {
   "cell_type": "markdown",
   "metadata": {},
   "source": [
    "This can be explained completely by the assumption I made for the Kalman filter, however. Rememeber that I always told the Kalman filter that the beam energy started at 2.0 MeV/u. If we compare the deviation to the actual beam energy, they are extremely correlated:"
   ]
  },
  {
   "cell_type": "code",
   "execution_count": null,
   "metadata": {
    "collapsed": false
   },
   "outputs": [],
   "source": [
    "sns.jointplot(reac_cut.en_in, reac_cut.en_err, kind='reg', marginal_kws={'kde': False})\n",
    "plt.xlabel('Beam energy [MeV/u]')\n",
    "plt.ylabel('Deviation in vertex energy [MeV/u]')"
   ]
  },
  {
   "cell_type": "markdown",
   "metadata": {},
   "source": [
    "### Interaction of variables\n",
    "\n",
    "Finally, we can see that most of the variables are not correlated to each other. The plot below shows a kernel density estimation for each set of variables."
   ]
  },
  {
   "cell_type": "code",
   "execution_count": null,
   "metadata": {
    "collapsed": false
   },
   "outputs": [],
   "source": [
    "pg = sns.PairGrid(reac_cut, x_vars=('en_in', 'azi_in', 'pol_in'), y_vars=('en_err', 'dev_azi', 'dev_pol'),\n",
    "                  despine=False)\n",
    "pg.map(sns.kdeplot, shade=True, cmap='Blues')"
   ]
  },
  {
   "cell_type": "markdown",
   "metadata": {},
   "source": [
    "**Note**: the axis labels here are odd since it's hard to change them on this plot. The ones labeled `[something]_in` are the input parameters to the simulation; the ones with `dev_[something]` are the deviations (differences); and `en_err` is the deviation in the vertex energy. All of the angles are in radians."
   ]
  }
 ],
 "metadata": {
  "kernelspec": {
   "display_name": "Python 3",
   "language": "python",
   "name": "python3"
  },
  "language_info": {
   "codemirror_mode": {
    "name": "ipython",
    "version": 3
   },
   "file_extension": ".py",
   "mimetype": "text/x-python",
   "name": "python",
   "nbconvert_exporter": "python",
   "pygments_lexer": "ipython3",
   "version": "3.4.2"
  }
 },
 "nbformat": 4,
 "nbformat_minor": 0
}
